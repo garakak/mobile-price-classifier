{
 "cells": [
  {
   "cell_type": "markdown",
   "metadata": {
    "collapsed": true
   },
   "source": [
    "### Used data set: https://www.kaggle.com/iabhishekofficial/mobile-price-classification/data"
   ]
  },
  {
   "cell_type": "markdown",
   "metadata": {},
   "source": [
    "Short description of the dataset is presented in the README.\n",
    "\n",
    "At first we'll import necessary libraries:"
   ]
  },
  {
   "cell_type": "code",
   "execution_count": 8,
   "metadata": {},
   "outputs": [
    {
     "name": "stdout",
     "output_type": "stream",
     "text": [
      "Populating the interactive namespace from numpy and matplotlib\n"
     ]
    }
   ],
   "source": [
    "%pylab inline\n",
    "import pandas as pd\n",
    "import numpy as np\n",
    "import sklearn as sk\n",
    "from sklearn import model_selection\n",
    "import matplotlib.pyplot as plt\n",
    "from sklearn.preprocessing import StandardScaler"
   ]
  },
  {
   "cell_type": "markdown",
   "metadata": {},
   "source": [
    "Then we'll load the dataset and preview first 5 rows of it:"
   ]
  },
  {
   "cell_type": "code",
   "execution_count": 5,
   "metadata": {},
   "outputs": [
    {
     "name": "stdout",
     "output_type": "stream",
     "text": [
      "   battery_power  blue  clock_speed  dual_sim  fc  four_g  int_memory  m_dep  \\\n0            842     0          2.2         0   1       0           7    0.6   \n1           1021     1          0.5         1   0       1          53    0.7   \n2            563     1          0.5         1   2       1          41    0.9   \n3            615     1          2.5         0   0       0          10    0.8   \n4           1821     1          1.2         0  13       1          44    0.6   \n\n   mobile_wt  n_cores     ...       px_height  px_width   ram  sc_h  sc_w  \\\n0        188        2     ...              20       756  2549     9     7   \n1        136        3     ...             905      1988  2631    17     3   \n2        145        5     ...            1263      1716  2603    11     2   \n3        131        6     ...            1216      1786  2769    16     8   \n4        141        2     ...            1208      1212  1411     8     2   \n\n   talk_time  three_g  touch_screen  wifi  price_range  \n0         19        0             0     1            1  \n1          7        1             1     0            2  \n2          9        1             1     0            2  \n3         11        1             0     0            2  \n4         15        1             1     0            1  \n\n[5 rows x 21 columns]\n"
     ]
    }
   ],
   "source": [
    "train = pd.read_csv('train.csv')\n",
    "\n",
    "print(train[0:5])"
   ]
  },
  {
   "cell_type": "markdown",
   "metadata": {},
   "source": [
    "To simplify classification we'll firstly reduce the task up to a binary classification and change [0, 1, 2, 3] classes to [0, 1] and remove the target variable from our dataset"
   ]
  },
  {
   "cell_type": "code",
   "execution_count": 6,
   "metadata": {},
   "outputs": [
    {
     "name": "stdout",
     "output_type": "stream",
     "text": [
      "0    0\n1    1\n2    1\n3    1\n4    0\n5    0\n6    1\n7    0\n8    0\n9    0\nName: price_range, dtype: int64\n   battery_power  blue  clock_speed  dual_sim  fc  four_g  int_memory  m_dep  \\\n0            842     0          2.2         0   1       0           7    0.6   \n1           1021     1          0.5         1   0       1          53    0.7   \n2            563     1          0.5         1   2       1          41    0.9   \n3            615     1          2.5         0   0       0          10    0.8   \n4           1821     1          1.2         0  13       1          44    0.6   \n\n   mobile_wt  n_cores  pc  px_height  px_width   ram  sc_h  sc_w  talk_time  \\\n0        188        2   2         20       756  2549     9     7         19   \n1        136        3   6        905      1988  2631    17     3          7   \n2        145        5   6       1263      1716  2603    11     2          9   \n3        131        6   9       1216      1786  2769    16     8         11   \n4        141        2  14       1208      1212  1411     8     2         15   \n\n   three_g  touch_screen  wifi  \n0        0             0     1  \n1        1             1     0  \n2        1             1     0  \n3        1             0     0  \n4        1             1     0  \n"
     ]
    }
   ],
   "source": [
    "y = train.price_range\n",
    "\n",
    "y = y.replace({1: 0, \n",
    "               2: 1,\n",
    "               3: 1,\n",
    "               4: 1})\n",
    "\n",
    "print(y[0: 10])\n",
    "\n",
    "X = train.drop('price_range', axis=1)\n",
    "\n",
    "print(X[0:5])"
   ]
  },
  {
   "cell_type": "markdown",
   "metadata": {},
   "source": [
    "Now, let's split the sample via 7:3:"
   ]
  },
  {
   "cell_type": "code",
   "execution_count": 7,
   "metadata": {},
   "outputs": [
    {
     "name": "stdout",
     "output_type": "stream",
     "text": [
      "1400\n600\n1400\n600\n"
     ]
    }
   ],
   "source": [
    "# Saving seed \n",
    "divide_seed = np.random.randint(1, 100)\n",
    "\n",
    "# And then split the data\n",
    "X_train, X_test, y_train, y_test = model_selection.train_test_split(\n",
    "    X, y, test_size=0.3, random_state=divide_seed)\n",
    "\n",
    "# And check if they splitted correctly\n",
    "print(len(X_train))\n",
    "print(len(X_test))\n",
    "print(len(y_train))\n",
    "print(len(y_test))"
   ]
  },
  {
   "cell_type": "markdown",
   "metadata": {},
   "source": [
    "Also, we need to normallize and scale the data, so we'll use Scaler:"
   ]
  },
  {
   "cell_type": "code",
   "execution_count": 9,
   "metadata": {},
   "outputs": [],
   "source": [
    "scaler = StandardScaler()\n",
    "\n",
    "# We normalize train sample\n",
    "scaler.fit(X_train)\n",
    "X_train = scaler.transform(X_train)\n",
    "\n",
    "# And test sample\n",
    "scaler.fit(X_test)\n",
    "X_test = scaler.transform(X_test)"
   ]
  },
  {
   "cell_type": "markdown",
   "metadata": {},
   "source": [
    "Now, our data is ready to be used as a sample for predicting models."
   ]
  }
 ],
 "metadata": {
  "kernelspec": {
   "display_name": "Python 2",
   "language": "python",
   "name": "python2"
  },
  "language_info": {
   "codemirror_mode": {
    "name": "ipython",
    "version": 2.0
   },
   "file_extension": ".py",
   "mimetype": "text/x-python",
   "name": "python",
   "nbconvert_exporter": "python",
   "pygments_lexer": "ipython2",
   "version": "2.7.6"
  }
 },
 "nbformat": 4,
 "nbformat_minor": 0
}
