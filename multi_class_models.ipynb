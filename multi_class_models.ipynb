{
 "cells": [
  {
   "cell_type": "markdown",
   "metadata": {
    "collapsed": true
   },
   "source": [
    "Let's import everything necessary to get ready for classification:"
   ]
  },
  {
   "cell_type": "code",
   "execution_count": 8,
   "metadata": {},
   "outputs": [
    {
     "name": "stdout",
     "output_type": "stream",
     "text": [
      "Populating the interactive namespace from numpy and matplotlib\n1400\n600\n1400\n600\n"
     ]
    }
   ],
   "source": [
    "%pylab inline\n",
    "import pandas as pd\n",
    "import numpy as np\n",
    "from sklearn import model_selection\n",
    "import matplotlib.pyplot as plt\n",
    "from sklearn.preprocessing import StandardScaler\n",
    "from sklearn.linear_model import LinearRegression\n",
    "from sklearn.linear_model import LogisticRegression\n",
    "from sklearn.metrics import accuracy_score, roc_auc_score\n",
    "from sklearn.metrics import roc_curve, precision_recall_curve\n",
    "from sklearn.ensemble import RandomForestClassifier\n",
    "from sklearn.tree import DecisionTreeClassifier\n",
    "from sklearn.ensemble import BaggingClassifier\n",
    "from sklearn.neighbors import KNeighborsClassifier\n",
    "from sklearn.ensemble import RandomForestClassifier\n",
    "import time\n",
    "\n",
    "train = pd.read_csv('/Users/daniiltekunov/Desktop/mobile-price-classification/train.csv')\n",
    "\n",
    "y = train.price_range\n",
    "\n",
    "X = train.drop('price_range', axis=1)\n",
    "\n",
    "divide_seed = np.random.randint(1, 100)\n",
    "\n",
    "X_train, X_test, y_train, y_test = model_selection.train_test_split(\n",
    "    X, y, test_size=0.3, random_state=divide_seed)\n",
    "\n",
    "scaler = StandardScaler()\n",
    "\n",
    "scaler.fit(X_train)\n",
    "X_train = scaler.transform(X_train)\n",
    "\n",
    "scaler.fit(X_test)\n",
    "X_test = scaler.transform(X_test)\n",
    "\n",
    "print(len(X_train))\n",
    "print(len(X_test))\n",
    "print(len(y_train))\n",
    "print(len(y_test))"
   ]
  },
  {
   "cell_type": "markdown",
   "metadata": {},
   "source": [
    "Let's start with a linear regression:"
   ]
  },
  {
   "cell_type": "code",
   "execution_count": 9,
   "metadata": {},
   "outputs": [
    {
     "name": "stdout",
     "output_type": "stream",
     "text": [
      "Test result: 0.9199213823065907\nTrain result: 0.9166628312925383\n"
     ]
    }
   ],
   "source": [
    "lr = LinearRegression()\n",
    "\n",
    "lr.fit(X_train, y_train)\n",
    "\n",
    "prediction_lr = lr.predict(X_train)\n",
    "\n",
    "print(\"Test result:\", lr.score(X_test, y_test))\n",
    "\n",
    "print(\"Train result:\", lr.score(X_train, y_train))"
   ]
  },
  {
   "cell_type": "markdown",
   "metadata": {},
   "source": [
    "Now, let's continue with kNN:"
   ]
  },
  {
   "cell_type": "code",
   "execution_count": 12,
   "metadata": {},
   "outputs": [
    {
     "name": "stdout",
     "output_type": "stream",
     "text": [
      "Predicted with  20  neighbours\n"
     ]
    },
    {
     "name": "stdout",
     "output_type": "stream",
     "text": [
      "Predicted with  40  neighbours\n"
     ]
    },
    {
     "name": "stdout",
     "output_type": "stream",
     "text": [
      "Predicted with  60  neighbours\n"
     ]
    },
    {
     "name": "stdout",
     "output_type": "stream",
     "text": [
      "Predicted with  80  neighbours\n"
     ]
    },
    {
     "name": "stdout",
     "output_type": "stream",
     "text": [
      "Predicted with  100  neighbours\n"
     ]
    }
   ],
   "source": [
    "list_of_predictions_knn = list()\n",
    "list_of_test_results_knn = list()\n",
    "list_of_train_results_knn = list()\n",
    "\n",
    "for i in range(1, 101):\n",
    "    knn = KNeighborsClassifier(n_neighbors=i)\n",
    "    knn.fit(X_train, y_train)\n",
    "    list_of_predictions_knn.append(knn.predict(X_train))\n",
    "    list_of_test_results_knn.append(knn.score(X_test, y_test))\n",
    "    list_of_train_results_knn.append(knn.score(X_train, y_train))\n",
    "    if i % 20 == 0:\n",
    "        print(\"Predicted with \", i, \" neighbours\")"
   ]
  },
  {
   "cell_type": "code",
   "execution_count": 13,
   "metadata": {},
   "outputs": [
    {
     "name": "stdout",
     "output_type": "stream",
     "text": [
      "Max test result:  0.65  takes  74  trees\n"
     ]
    },
    {
     "data": {
      "text/plain": [
       "<matplotlib.collections.PathCollection at 0x1085e5898>"
      ]
     },
     "execution_count": 13,
     "metadata": {},
     "output_type": "execute_result"
    },
    {
     "data": {
      "image/png": "[encoded data removed]",
      "text/plain": [
       "<matplotlib.figure.Figure at 0x1028d6e10>"
      ]
     },
     "metadata": {},
     "output_type": "display_data"
    }
   ],
   "source": [
    "print(\"Max test result: \", max(list_of_test_results_knn), \n",
    "      \" takes \", (list_of_test_results_knn.index(max(list_of_test_results_knn))+1), \" trees\")\n",
    "\n",
    "plt.scatter(x=list((range(1, 101))), y=list_of_test_results_knn)"
   ]
  },
  {
   "cell_type": "markdown",
   "metadata": {},
   "source": [
    "Next classifier we'll try to use is Logistic Regression:"
   ]
  },
  {
   "cell_type": "code",
   "execution_count": 19,
   "metadata": {},
   "outputs": [
    {
     "name": "stdout",
     "output_type": "stream",
     "text": [
      "Train result: 0.8464285714285714\nAccuracy: 0.795\n######################################################\n"
     ]
    }
   ],
   "source": [
    "logistic_model = LogisticRegression()\n",
    "\n",
    "logistic_model.fit(X_train, y_train)\n",
    "\n",
    "prediction = logistic_model.predict(X_test)\n",
    "\n",
    "#print(\"Test result:\", logistic_model.score(X_test, y_test))\n",
    "\n",
    "print(\"Train result:\", logistic_model.score(X_train, y_train))\n",
    "\n",
    "print(\"Accuracy:\", accuracy_score(y_test, prediction))\n",
    "\n",
    "#print(\"AUC-ROC:\", roc_auc_score(y_test, prediction))\n",
    "\n",
    "print(\"######################################################\")\n",
    "logistic_model_proba = LogisticRegression()\n",
    "\n",
    "logistic_model_proba.fit(X_train, y_train)\n",
    "\n",
    "prediction_proba = logistic_model.predict_proba(X_test)"
   ]
  },
  {
   "cell_type": "markdown",
   "metadata": {},
   "source": [
    "Next step we'll take is DecisionTree model:"
   ]
  },
  {
   "cell_type": "code",
   "execution_count": 22,
   "metadata": {},
   "outputs": [
    {
     "name": "stdout",
     "output_type": "stream",
     "text": [
      "Test result (accuracy): 0.8516666666666667\nAccuracy: 0.8516666666666667\n######################################################\n"
     ]
    }
   ],
   "source": [
    "decision_tree = DecisionTreeClassifier(random_state=divide_seed)\n",
    "\n",
    "decision_tree.fit(X_train, y_train)\n",
    "\n",
    "prediction_tree = decision_tree.predict(X_test)\n",
    "\n",
    "print(\"Test result (accuracy):\", decision_tree.score(X_test, y_test))\n",
    "\n",
    "print(\"Accuracy:\", accuracy_score(y_test, prediction_tree))\n",
    "\n",
    "print(\"######################################################\")\n",
    "decision_tree_proba = DecisionTreeClassifier(random_state=divide_seed)\n",
    "\n",
    "decision_tree_proba.fit(X_train, y_train)\n",
    "\n",
    "prediction_tree_proba = decision_tree_proba.predict_proba(X_test)[:, 1]"
   ]
  },
  {
   "cell_type": "markdown",
   "metadata": {},
   "source": [
    "This accuracy is not enough to accept this decision tree model, so, let's try to use bagging to try to improve it."
   ]
  },
  {
   "cell_type": "code",
   "execution_count": 33,
   "metadata": {},
   "outputs": [
    {
     "name": "stdout",
     "output_type": "stream",
     "text": [
      "######################################################\n"
     ]
    },
    {
     "name": "stdout",
     "output_type": "stream",
     "text": [
      "Accuracy: 0.43333333333333335\n"
     ]
    }
   ],
   "source": [
    "bagging = BaggingClassifier(base_estimator=DecisionTreeClassifier(random_state=divide_seed), n_estimators=100)\n",
    "\n",
    "bagging.fit(X_train, y_train)\n",
    "\n",
    "prediction_bagging = bagging.predict(X_test)\n",
    "\n",
    "print(\"######################################################\")\n",
    "bagging_proba = BaggingClassifier(base_estimator=DecisionTreeClassifier(random_state=divide_seed), n_estimators=100)\n",
    "\n",
    "bagging_proba.fit(X_train, y_train)\n",
    "\n",
    "prediction_bagging_proba = bagging_proba.predict_proba(X_test)[:, 1]\n",
    "\n",
    "print(\"Accuracy:\", accuracy_score(y_test, prediction_bagging_proba > 0.5))"
   ]
  },
  {
   "cell_type": "code",
   "execution_count": 35,
   "metadata": {},
   "outputs": [
    {
     "name": "stdout",
     "output_type": "stream",
     "text": [
      "Accuracy: 0.43666666666666665\n"
     ]
    }
   ],
   "source": [
    "new_predicted_tree = 0\n",
    "new_predicted_tree_proba = np.zeros(X_test.shape[0])\n",
    "\n",
    "\n",
    "for k in range(0, 100):\n",
    "    i_new = np.random.randint(0, X_train.shape[0], int(2000*0.7))\n",
    "    tree_class = DecisionTreeClassifier()\n",
    "    \n",
    "    tree_class.fit(X_train[i_new], array(y_train)[i_new])\n",
    "    \n",
    "    new_predicted_tree_proba += tree_class.predict_proba(X_test)[:, 1]\n",
    "    \n",
    "    new_predicted_tree += tree_class.predict(X_test)\n",
    "    new_predicted_tree = np.divide(new_predicted_tree, 100).astype('int8')\n",
    "    \n",
    "new_predicted_tree_proba = new_predicted_tree_proba / 100\n",
    "    \n",
    "\n",
    "print(\"Accuracy:\", accuracy_score(y_test, new_predicted_tree_proba > 0.5))"
   ]
  },
  {
   "cell_type": "markdown",
   "metadata": {},
   "source": [
    "Still bad, need to try random forest."
   ]
  },
  {
   "cell_type": "code",
   "execution_count": 38,
   "metadata": {},
   "outputs": [
    {
     "name": "stdout",
     "output_type": "stream",
     "text": [
      "Number of trees: 50\nPrediction completed by 5.0 %\nTook  1.1244707107543945  seconds\n--------------------\n"
     ]
    },
    {
     "name": "stdout",
     "output_type": "stream",
     "text": [
      "Number of trees: 150\nPrediction completed by 15.0 %\nTook  6.452134609222412  seconds\n--------------------\n"
     ]
    },
    {
     "name": "stdout",
     "output_type": "stream",
     "text": [
      "Number of trees: 250\nPrediction completed by 25.0 %\nTook  16.21289873123169  seconds\n--------------------\n"
     ]
    },
    {
     "name": "stdout",
     "output_type": "stream",
     "text": [
      "Number of trees: 350\nPrediction completed by 35.0 %\nTook  27.84582281112671  seconds\n--------------------\n"
     ]
    },
    {
     "name": "stdout",
     "output_type": "stream",
     "text": [
      "Number of trees: 450\nPrediction completed by 45.0 %\nTook  43.706652879714966  seconds\n--------------------\n"
     ]
    },
    {
     "name": "stdout",
     "output_type": "stream",
     "text": [
      "Number of trees: 550\nPrediction completed by 55.0 %\nTook  63.87005567550659  seconds\n--------------------\n"
     ]
    },
    {
     "name": "stdout",
     "output_type": "stream",
     "text": [
      "Number of trees: 650\nPrediction completed by 65.0 %\nTook  86.38479399681091  seconds\n--------------------\n"
     ]
    },
    {
     "name": "stdout",
     "output_type": "stream",
     "text": [
      "Number of trees: 750\nPrediction completed by 75.0 %\nTook  113.22488784790039  seconds\n--------------------\n"
     ]
    },
    {
     "name": "stdout",
     "output_type": "stream",
     "text": [
      "Number of trees: 850\nPrediction completed by 85.0 %\nTook  142.7036998271942  seconds\n--------------------\n"
     ]
    },
    {
     "name": "stdout",
     "output_type": "stream",
     "text": [
      "Number of trees: 950\nPrediction completed by 95.0 %\nTook  177.45029473304749  seconds\n--------------------\n"
     ]
    },
    {
     "name": "stdout",
     "output_type": "stream",
     "text": [
      "Prediction completed by 100%\nPrediction took  374.46624064445496  seconds\n"
     ]
    }
   ],
   "source": [
    "test_forest_results = list()\n",
    "train_forest_results = list()\n",
    "accuracy_forest_results = list()\n",
    "auc_roc_forest_results = list()\n",
    "time_list = list()\n",
    "\n",
    "accuracy_forest_results_proba = list()\n",
    "auc_roc_forest_results_proba = list()\n",
    "\n",
    "start = time.time()\n",
    "cur_time = start\n",
    "\n",
    "for j in range(10, 1010, 10):\n",
    "    \n",
    "    decision_forest = RandomForestClassifier(random_state=divide_seed, n_estimators=j)\n",
    "    decision_forest_proba = RandomForestClassifier(random_state=divide_seed, n_estimators=j)\n",
    "\n",
    "    decision_forest.fit(X_train, y_train)\n",
    "    \n",
    "    decision_forest_proba.fit(X_train, y_train)\n",
    "\n",
    "    prediction_forest = decision_forest.predict(X_test)\n",
    "    \n",
    "    prediction_forest_pr = decision_forest_proba.predict_proba(X_test)[:, 1]\n",
    "\n",
    "    test_forest_results.append(decision_forest.score(X_test, y_test))\n",
    "\n",
    "    train_forest_results.append(decision_forest.score(X_train, y_train))\n",
    "\n",
    "    accuracy_forest_results.append(accuracy_score(y_test, prediction_forest))\n",
    "    \n",
    "    accuracy_forest_results_proba.append(accuracy_score(y_test, prediction_forest_pr > 0.5))\n",
    "\n",
    "    if j % 50 == 0:\n",
    "        cur_time = time.time() - cur_time\n",
    "        if j % 100 != 0:\n",
    "            time_list.append(cur_time)\n",
    "            print('Number of trees:', j)\n",
    "            print(\"Prediction completed by\", j/10, \"%\")\n",
    "            print(\"Took \", cur_time, \" seconds\")\n",
    "            print(\"--------------------\")\n",
    "print(\"Prediction completed by 100%\")\n",
    "finish = time.time() - start\n",
    "\n",
    "print(\"Prediction took \", finish, \" seconds\")"
   ]
  },
  {
   "cell_type": "code",
   "execution_count": 42,
   "metadata": {},
   "outputs": [
    {
     "name": "stdout",
     "output_type": "stream",
     "text": [
      "Max test result:  0.885  takes  250  trees\nMax accuracy result:  0.885  takes  250  trees\nMax accuracy result with proba:  0.385  takes  250  trees\n"
     ]
    },
    {
     "data": {
      "image/png": "[encoded data removed]",
      "text/plain": [
       "<matplotlib.figure.Figure at 0x1090b9278>"
      ]
     },
     "metadata": {},
     "output_type": "display_data"
    },
    {
     "name": "stdout",
     "output_type": "stream",
     "text": [
      "Time taken via number of trees:\n"
     ]
    },
    {
     "data": {
      "image/png": "[encoded data removed]",
      "text/plain": [
       "<matplotlib.figure.Figure at 0x108e7a160>"
      ]
     },
     "metadata": {},
     "output_type": "display_data"
    }
   ],
   "source": [
    "print(\"Max test result: \", max(test_forest_results), \" takes \", (test_forest_results.index(max(test_forest_results))+1)*10, \" trees\")\n",
    "\n",
    "print(\"Max accuracy result: \", max(accuracy_forest_results), \" takes \", (accuracy_forest_results.index(max(accuracy_forest_results))+1)*10, \" trees\")\n",
    "\n",
    "print(\"Max accuracy result with proba: \", max(accuracy_forest_results_proba), \" takes \", (accuracy_forest_results.index(max(accuracy_forest_results))+1)*10, \" trees\")\n",
    "\n",
    "plt.scatter(x=list((range(1, 101))), y=accuracy_forest_results)\n",
    "\n",
    "plt.scatter(x=list((range(1, 101))), y=accuracy_forest_results_proba)\n",
    "plt.show()\n",
    "\n",
    "print(\"Time taken via number of trees:\")\n",
    "plt.scatter(x=list(range(0, 10)), y=time_list)\n",
    "plt.show()"
   ]
  },
  {
   "cell_type": "markdown",
   "metadata": {},
   "source": [
    "Finally, let's take a look at which features were most important in our model:"
   ]
  },
  {
   "cell_type": "code",
   "execution_count": 43,
   "metadata": {},
   "outputs": [
    {
     "name": "stdout",
     "output_type": "stream",
     "text": [
      "[0.07303068 0.00705218 0.02845247 0.00692373 0.02563393 0.00716181\n 0.03797567 0.02550083 0.04049928 0.02328117 0.03035683 0.05979071\n 0.06074744 0.46498961 0.02812643 0.02933613 0.03107064 0.00580641\n 0.00728066 0.00698339]\n"
     ]
    },
    {
     "data": {
      "text/plain": [
       "<matplotlib.collections.PathCollection at 0x10920d128>"
      ]
     },
     "execution_count": 43,
     "metadata": {},
     "output_type": "execute_result"
    },
    {
     "data": {
      "image/png": "[encoded data removed]",
      "text/plain": [
       "<matplotlib.figure.Figure at 0x1091fbf28>"
      ]
     },
     "metadata": {},
     "output_type": "display_data"
    }
   ],
   "source": [
    "importances = list(decision_forest.feature_importances_)\n",
    "\n",
    "number = list(range(0, 20, 1))\n",
    "\n",
    "print(decision_forest.feature_importances_)\n",
    "\n",
    "plt.scatter(x=number, y=importances)"
   ]
  },
  {
   "cell_type": "markdown",
   "metadata": {},
   "source": [
    "As we can see, 14th feature is much more important than others, so it dominates and that is whe linear regression is so good in this case."
   ]
  }
 ],
 "metadata": {
  "kernelspec": {
   "display_name": "Python 2",
   "language": "python",
   "name": "python2"
  },
  "language_info": {
   "codemirror_mode": {
    "name": "ipython",
    "version": 2.0
   },
   "file_extension": ".py",
   "mimetype": "text/x-python",
   "name": "python",
   "nbconvert_exporter": "python",
   "pygments_lexer": "ipython2",
   "version": "2.7.6"
  }
 },
 "nbformat": 4,
 "nbformat_minor": 0
}